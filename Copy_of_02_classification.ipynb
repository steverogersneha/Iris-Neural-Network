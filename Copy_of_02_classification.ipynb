{
  "nbformat": 4,
  "nbformat_minor": 0,
  "metadata": {
    "colab": {
      "name": "Copy of 02_classification.ipynb",
      "provenance": [],
      "collapsed_sections": [],
      "include_colab_link": true
    },
    "kernelspec": {
      "name": "python3",
      "display_name": "Python 3"
    },
    "accelerator": "GPU"
  },
  "cells": [
    {
      "cell_type": "markdown",
      "metadata": {
        "id": "view-in-github",
        "colab_type": "text"
      },
      "source": [
        "<a href=\"https://colab.research.google.com/github/steverogersneha/Iris-Neural-Network/blob/master/Copy_of_02_classification.ipynb\" target=\"_parent\"><img src=\"https://colab.research.google.com/assets/colab-badge.svg\" alt=\"Open In Colab\"/></a>"
      ]
    },
    {
      "cell_type": "markdown",
      "metadata": {
        "id": "0lpJWauCL7Hu"
      },
      "source": [
        "# Image classification with Keras\n",
        "\n",
        "In this tutorial, we will create a very basic neural network for image classification in Keras. \n",
        "\n",
        "We will use the dataset with images of clothing and try to automatically classify them in classes (clothing types).\n",
        "\n",
        "In this tutorial, we will:\n",
        "- Download and review the dataset\n",
        "- Preprocessed the data\n",
        "- Build the classification model\n",
        "- Train the model\n",
        "- Evaluate the model and observe the results"
      ]
    },
    {
      "cell_type": "code",
      "metadata": {
        "id": "i0H2561aMNTh",
        "colab": {
          "base_uri": "https://localhost:8080/"
        },
        "outputId": "eea1c23e-3bef-4107-84c8-e6b6362a1ff2"
      },
      "source": [
        "# TensorFlow and tf.keras\n",
        "import tensorflow as tf\n",
        "from tensorflow import keras\n",
        "from tensorflow.keras import layers\n",
        "\n",
        "# Helper libraries\n",
        "import numpy as np\n",
        "import matplotlib.pyplot as plt\n",
        "\n",
        "print(tf.__version__)\n",
        "print(tf.config.list_physical_devices('GPU'))"
      ],
      "execution_count": 1,
      "outputs": [
        {
          "output_type": "stream",
          "name": "stdout",
          "text": [
            "2.8.0\n",
            "[PhysicalDevice(name='/physical_device:GPU:0', device_type='GPU')]\n"
          ]
        }
      ]
    },
    {
      "cell_type": "markdown",
      "metadata": {
        "id": "5W6pKypybrmH"
      },
      "source": [
        "## The dataset\n",
        "\n",
        "This tutorial uses [Fashion MNIST](https://github.com/zalandoresearch/fashion-mnist) dataset. The dataset contains 70,000 images of clothing.\n",
        "\n",
        "![](https://tensorflow.org/images/fashion-mnist-sprite.png)\n",
        "\n",
        "\n"
      ]
    },
    {
      "cell_type": "markdown",
      "metadata": {
        "id": "qCwTp9jieItv"
      },
      "source": [
        "This dataset is available through `keras.datasets` module and is already split on training and testing dataset."
      ]
    },
    {
      "cell_type": "code",
      "metadata": {
        "id": "5UbBuO9OMt0t",
        "colab": {
          "base_uri": "https://localhost:8080/"
        },
        "outputId": "fd24f68e-a9c5-400d-faf5-645dcc8264aa"
      },
      "source": [
        "fashion_mnist = keras.datasets.fashion_mnist\n",
        "(train_images, train_labels), (test_images, test_labels) = fashion_mnist.load_data()"
      ],
      "execution_count": 2,
      "outputs": [
        {
          "output_type": "stream",
          "name": "stdout",
          "text": [
            "Downloading data from https://storage.googleapis.com/tensorflow/tf-keras-datasets/train-labels-idx1-ubyte.gz\n",
            "32768/29515 [=================================] - 0s 0us/step\n",
            "40960/29515 [=========================================] - 0s 0us/step\n",
            "Downloading data from https://storage.googleapis.com/tensorflow/tf-keras-datasets/train-images-idx3-ubyte.gz\n",
            "26427392/26421880 [==============================] - 1s 0us/step\n",
            "26435584/26421880 [==============================] - 1s 0us/step\n",
            "Downloading data from https://storage.googleapis.com/tensorflow/tf-keras-datasets/t10k-labels-idx1-ubyte.gz\n",
            "16384/5148 [===============================================================================================] - 0s 0us/step\n",
            "Downloading data from https://storage.googleapis.com/tensorflow/tf-keras-datasets/t10k-images-idx3-ubyte.gz\n",
            "4423680/4422102 [==============================] - 0s 0us/step\n",
            "4431872/4422102 [==============================] - 0s 0us/step\n"
          ]
        }
      ]
    },
    {
      "cell_type": "markdown",
      "metadata": {
        "id": "58vG_VQPekhW"
      },
      "source": [
        "## Review the dataset\n",
        "\n",
        "We will first check the size of the dataset."
      ]
    },
    {
      "cell_type": "code",
      "metadata": {
        "id": "bdALdCHJMpxF",
        "colab": {
          "base_uri": "https://localhost:8080/"
        },
        "outputId": "6645b573-7176-4a81-8e98-eee2dd3ce33f"
      },
      "source": [
        "train_images.shape, train_labels.shape, test_images.shape, test_labels.shape"
      ],
      "execution_count": 3,
      "outputs": [
        {
          "output_type": "execute_result",
          "data": {
            "text/plain": [
              "((60000, 28, 28), (60000,), (10000, 28, 28), (10000,))"
            ]
          },
          "metadata": {},
          "execution_count": 3
        }
      ]
    },
    {
      "cell_type": "markdown",
      "metadata": {
        "id": "o09y51Aye0k0"
      },
      "source": [
        "\n",
        "How does one image look?"
      ]
    },
    {
      "cell_type": "code",
      "metadata": {
        "id": "tM20kMPHe8TW",
        "colab": {
          "base_uri": "https://localhost:8080/",
          "height": 254
        },
        "outputId": "d4ef4ec3-8ebc-4e39-b9ae-18cb936740c8"
      },
      "source": [
        "plt.imshow(train_images[2], cmap='gray')\n",
        "plt.axis('off')\n",
        "plt.colorbar();  # 2"
      ],
      "execution_count": 4,
      "outputs": [
        {
          "output_type": "display_data",
          "data": {
            "image/png": "[encoded data removed]",
            "text/plain": [
              "<Figure size 432x288 with 2 Axes>"
            ]
          },
          "metadata": {
            "needs_background": "light"
          }
        }
      ]
    },
    {
      "cell_type": "markdown",
      "metadata": {
        "id": "58wBpQ4re-_F"
      },
      "source": [
        "What about labels? We plot labels for ten first image in the dataset."
      ]
    },
    {
      "cell_type": "code",
      "metadata": {
        "id": "xTsKrxOpMjl9",
        "colab": {
          "base_uri": "https://localhost:8080/"
        },
        "outputId": "536664bd-c282-4252-efbf-e5a52d2acd3a"
      },
      "source": [
        "train_labels[:10]"
      ],
      "execution_count": 5,
      "outputs": [
        {
          "output_type": "execute_result",
          "data": {
            "text/plain": [
              "array([9, 0, 0, 3, 0, 2, 7, 2, 5, 5], dtype=uint8)"
            ]
          },
          "metadata": {},
          "execution_count": 5
        }
      ]
    },
    {
      "cell_type": "markdown",
      "metadata": {
        "id": "He6vQ9q5EfUQ"
      },
      "source": [
        "We see that labels are numbers. Each category is represented with its number. \n",
        "For labelling purposes, we crate the list of labels which indexes correspond to numbers in the list above."
      ]
    },
    {
      "cell_type": "code",
      "metadata": {
        "id": "lLfuFwvnNYPG"
      },
      "source": [
        "class_names = [\n",
        "    'T-shirt/top', 'Trouser', 'Pullover', 'Dress', 'Coat',\n",
        "    'Sandal', 'Shirt', 'Sneaker', 'Bag', 'Ankle boot'\n",
        "]"
      ],
      "execution_count": 6,
      "outputs": []
    },
    {
      "cell_type": "markdown",
      "metadata": {
        "id": "75fE8Cc0Njb3"
      },
      "source": [
        "## Preprocess images\n",
        "\n",
        "Data must be preprocessed before training the neural network, which improves the learning process. More about reasons for preprocessing can be found [here](https://machinelearningmastery.com/how-to-improve-neural-network-stability-and-modeling-performance-with-data-scaling/)"
      ]
    },
    {
      "cell_type": "code",
      "metadata": {
        "id": "UthtAN8iQeP2"
      },
      "source": [
        "train_images_preprocessed = train_images / 255\n",
        "test_images_preprocessed = test_images / 255"
      ],
      "execution_count": 7,
      "outputs": []
    },
    {
      "cell_type": "markdown",
      "metadata": {
        "id": "6W0C0FHpGjB1"
      },
      "source": [
        "Now we inspect whether images are correctly preprocessed."
      ]
    },
    {
      "cell_type": "code",
      "metadata": {
        "id": "i-rdJILQQ9sv",
        "colab": {
          "base_uri": "https://localhost:8080/",
          "height": 258
        },
        "outputId": "480c3b8b-e34f-4181-c2b5-076d18db672b"
      },
      "source": [
        "plt.imshow(train_images_preprocessed[0], cmap='gray')\n",
        "plt.colorbar() \n",
        "plt.axis('off'); "
      ],
      "execution_count": 8,
      "outputs": [
        {
          "output_type": "display_data",
          "data": {
            "image/png": "[encoded data removed]",
            "text/plain": [
              "<Figure size 432x288 with 2 Axes>"
            ]
          },
          "metadata": {
            "needs_background": "light"
          }
        }
      ]
    },
    {
      "cell_type": "markdown",
      "metadata": {
        "id": "ALIzb-uXGzd9"
      },
      "source": [
        "## Building the model\n",
        "\n",
        "We will first chose and connect layers and then compile the model to make it ready for training.\n",
        "\n",
        "We decided to make our network simple. It will have only two dense layers.\n",
        "\n",
        "![](https://victorzhou.com/media/nn-series/network.svg)"
      ]
    },
    {
      "cell_type": "code",
      "metadata": {
        "id": "hdiYtnksRA0q"
      },
      "source": [
        "model = keras.Sequential([\n",
        "    layers.Flatten(input_shape=(28, 28)),\n",
        "    layers.Dense(128, activation='relu'),\n",
        "    layers.Dense(10, activation='softmax')\n",
        "])"
      ],
      "execution_count": 9,
      "outputs": []
    },
    {
      "cell_type": "markdown",
      "metadata": {
        "id": "2Q7VO4aDINMj"
      },
      "source": [
        "Flatten layer transform each image with size 28 x 28 pixels to vector (onedimensional array) with 28x28 = 784 elements. Dense layers are fully connected layers, first has 128 nodes, and the second one has 10 nodes that correspond to 10 classes in data. Each node will contain a score for each of the classes.\n",
        "\n",
        "To be able to train the model, we need to add a few more settings to it:"
      ]
    },
    {
      "cell_type": "code",
      "metadata": {
        "id": "kdEXdGmARZJd"
      },
      "source": [
        "model.compile(\n",
        "    optimizer='adam',\n",
        "    loss=keras.losses.SparseCategoricalCrossentropy(),\n",
        "    metrics=['accuracy']\n",
        ")"
      ],
      "execution_count": 10,
      "outputs": []
    },
    {
      "cell_type": "markdown",
      "metadata": {
        "id": "ShXO9KC-Jpv8"
      },
      "source": [
        "- loss: It sets the loss function that is a measurement of accuracy during training. The network is optimized such that it minimizes the loss function.\n",
        "- optimizer: The method for optimizing the model during training\n",
        "- metrics: The measurement to monitor the performance of the neural network. In this example, we use accuracy, which measures the proportion of correctly classified images."
      ]
    },
    {
      "cell_type": "code",
      "metadata": {
        "id": "gFDcI8se7xGD",
        "colab": {
          "base_uri": "https://localhost:8080/"
        },
        "outputId": "8bbf0248-fb9c-4a65-f056-f1982ac54e2c"
      },
      "source": [
        "model.summary()"
      ],
      "execution_count": 11,
      "outputs": [
        {
          "output_type": "stream",
          "name": "stdout",
          "text": [
            "Model: \"sequential\"\n",
            "_________________________________________________________________\n",
            " Layer (type)                Output Shape              Param #   \n",
            "=================================================================\n",
            " flatten (Flatten)           (None, 784)               0         \n",
            "                                                                 \n",
            " dense (Dense)               (None, 128)               100480    \n",
            "                                                                 \n",
            " dense_1 (Dense)             (None, 10)                1290      \n",
            "                                                                 \n",
            "=================================================================\n",
            "Total params: 101,770\n",
            "Trainable params: 101,770\n",
            "Non-trainable params: 0\n",
            "_________________________________________________________________\n"
          ]
        }
      ]
    },
    {
      "cell_type": "markdown",
      "metadata": {
        "id": "c21_9lSyLmTQ"
      },
      "source": [
        "## Training the model\n",
        "\n",
        "We will use the training part of the dataset to train the model"
      ]
    },
    {
      "cell_type": "code",
      "metadata": {
        "id": "9gGcKPAFRf6W",
        "colab": {
          "base_uri": "https://localhost:8080/"
        },
        "outputId": "d8e41e08-76f4-45a3-a485-8af63abea933"
      },
      "source": [
        "history = model.fit(\n",
        "    train_images_preprocessed, \n",
        "    train_labels, \n",
        "    validation_split=0.1,\n",
        "    epochs=10\n",
        ")"
      ],
      "execution_count": 12,
      "outputs": [
        {
          "output_type": "stream",
          "name": "stdout",
          "text": [
            "Epoch 1/10\n",
            "1688/1688 [==============================] - 9s 4ms/step - loss: 0.5126 - accuracy: 0.8197 - val_loss: 0.4450 - val_accuracy: 0.8308\n",
            "Epoch 2/10\n",
            "1688/1688 [==============================] - 6s 4ms/step - loss: 0.3795 - accuracy: 0.8633 - val_loss: 0.3802 - val_accuracy: 0.8625\n",
            "Epoch 3/10\n",
            "1688/1688 [==============================] - 8s 5ms/step - loss: 0.3409 - accuracy: 0.8747 - val_loss: 0.3544 - val_accuracy: 0.8673\n",
            "Epoch 4/10\n",
            "1688/1688 [==============================] - 9s 5ms/step - loss: 0.3153 - accuracy: 0.8850 - val_loss: 0.3282 - val_accuracy: 0.8837\n",
            "Epoch 5/10\n",
            "1688/1688 [==============================] - 6s 4ms/step - loss: 0.2984 - accuracy: 0.8905 - val_loss: 0.3627 - val_accuracy: 0.8702\n",
            "Epoch 6/10\n",
            "1688/1688 [==============================] - 8s 5ms/step - loss: 0.2827 - accuracy: 0.8959 - val_loss: 0.3309 - val_accuracy: 0.8822\n",
            "Epoch 7/10\n",
            "1688/1688 [==============================] - 6s 4ms/step - loss: 0.2689 - accuracy: 0.9010 - val_loss: 0.3252 - val_accuracy: 0.8813\n",
            "Epoch 8/10\n",
            "1688/1688 [==============================] - 6s 4ms/step - loss: 0.2592 - accuracy: 0.9036 - val_loss: 0.3286 - val_accuracy: 0.8812\n",
            "Epoch 9/10\n",
            "1688/1688 [==============================] - 6s 4ms/step - loss: 0.2497 - accuracy: 0.9076 - val_loss: 0.3580 - val_accuracy: 0.8790\n",
            "Epoch 10/10\n",
            "1688/1688 [==============================] - 6s 4ms/step - loss: 0.2406 - accuracy: 0.9102 - val_loss: 0.3395 - val_accuracy: 0.8787\n"
          ]
        }
      ]
    },
    {
      "cell_type": "markdown",
      "metadata": {
        "id": "vwXg7wOqQcF0"
      },
      "source": [
        "# Model evaluation and predicting\n",
        "\n",
        "We want to know how accurate is the model we trained on the test data. "
      ]
    },
    {
      "cell_type": "code",
      "metadata": {
        "id": "_tBxkvhRRGE0",
        "colab": {
          "base_uri": "https://localhost:8080/"
        },
        "outputId": "4f691765-e2c0-44c4-c075-d5847e324229"
      },
      "source": [
        "test_loss, test_acc = model.evaluate(test_images_preprocessed, test_labels)\n",
        "\n",
        "print('\\nTest accuracy:', test_acc)"
      ],
      "execution_count": 13,
      "outputs": [
        {
          "output_type": "stream",
          "name": "stdout",
          "text": [
            "313/313 [==============================] - 1s 3ms/step - loss: 0.3719 - accuracy: 0.8754\n",
            "\n",
            "Test accuracy: 0.8754000067710876\n"
          ]
        }
      ]
    },
    {
      "cell_type": "markdown",
      "metadata": {
        "id": "_Mr8VkO6Q8yU"
      },
      "source": [
        "To make a prediction, we will add the Softmax layer to the model. This layer changes the linear prediction of the last model to probabilities."
      ]
    },
    {
      "cell_type": "code",
      "metadata": {
        "id": "x563i1vIUZGe",
        "colab": {
          "base_uri": "https://localhost:8080/"
        },
        "outputId": "7c09a9ba-708b-4b83-c129-1285e5ce0d44"
      },
      "source": [
        "predictions = model.predict(test_images_preprocessed)\n",
        "predictions.shape"
      ],
      "execution_count": 14,
      "outputs": [
        {
          "output_type": "execute_result",
          "data": {
            "text/plain": [
              "(10000, 10)"
            ]
          },
          "metadata": {},
          "execution_count": 14
        }
      ]
    },
    {
      "cell_type": "markdown",
      "metadata": {
        "id": "EjyX5qD5UmdX"
      },
      "source": [
        "Let's take a look in the prediction for the first image."
      ]
    },
    {
      "cell_type": "code",
      "metadata": {
        "id": "YPT1HpqgUvbX",
        "colab": {
          "base_uri": "https://localhost:8080/"
        },
        "outputId": "8e5c4e3b-7c38-42ab-e8da-b1d64d66e1c8"
      },
      "source": [
        "np.set_printoptions(suppress=True)\n",
        "predictions[0]"
      ],
      "execution_count": 15,
      "outputs": [
        {
          "output_type": "execute_result",
          "data": {
            "text/plain": [
              "array([0.0000004 , 0.00000056, 0.0000001 , 0.00000041, 0.00000114,\n",
              "       0.0017078 , 0.00000052, 0.04170777, 0.00000001, 0.95658135],\n",
              "      dtype=float32)"
            ]
          },
          "metadata": {},
          "execution_count": 15
        }
      ]
    },
    {
      "cell_type": "markdown",
      "metadata": {
        "id": "qXVqpmjXUwII"
      },
      "source": [
        "The prediction is an array of 10 numbers, and each is the probability for one of ten classes. Now we will get the index of the class with the highest probability:"
      ]
    },
    {
      "cell_type": "code",
      "metadata": {
        "id": "xoT6UNIoVB7m",
        "colab": {
          "base_uri": "https://localhost:8080/"
        },
        "outputId": "be54e5dc-be8d-41e0-d2ce-be28dcb9f8a5"
      },
      "source": [
        "np.argmax(predictions[0])"
      ],
      "execution_count": 16,
      "outputs": [
        {
          "output_type": "execute_result",
          "data": {
            "text/plain": [
              "9"
            ]
          },
          "metadata": {},
          "execution_count": 16
        }
      ]
    },
    {
      "cell_type": "markdown",
      "source": [
        "And what is correct label for the first image?"
      ],
      "metadata": {
        "id": "pzR46JNrr9g2"
      }
    },
    {
      "cell_type": "code",
      "source": [
        "test_labels[0]"
      ],
      "metadata": {
        "colab": {
          "base_uri": "https://localhost:8080/"
        },
        "id": "3kyGStuWrtHu",
        "outputId": "24fd38c8-e0d4-4f15-a433-1e1ad113bfee"
      },
      "execution_count": 17,
      "outputs": [
        {
          "output_type": "execute_result",
          "data": {
            "text/plain": [
              "9"
            ]
          },
          "metadata": {},
          "execution_count": 17
        }
      ]
    },
    {
      "cell_type": "markdown",
      "metadata": {
        "id": "brFa5WGeVILZ"
      },
      "source": [
        "To get the name of the class, we will use the previously defined `class_names` list:"
      ]
    },
    {
      "cell_type": "code",
      "metadata": {
        "id": "Ce4gxUITVB7H",
        "colab": {
          "base_uri": "https://localhost:8080/",
          "height": 35
        },
        "outputId": "c3e3e26c-0add-4dd3-f523-4dd87b1293da"
      },
      "source": [
        "class_names[np.argmax(predictions[0])]"
      ],
      "execution_count": 18,
      "outputs": [
        {
          "output_type": "execute_result",
          "data": {
            "application/vnd.google.colaboratory.intrinsic+json": {
              "type": "string"
            },
            "text/plain": [
              "'Ankle boot'"
            ]
          },
          "metadata": {},
          "execution_count": 18
        }
      ]
    },
    {
      "cell_type": "markdown",
      "metadata": {
        "id": "vDkkG8hzVi2y"
      },
      "source": [
        "Here we implement two functions to show the results:"
      ]
    },
    {
      "cell_type": "code",
      "metadata": {
        "id": "YYiQVRzCWJaB"
      },
      "source": [
        "def plot_image(i, predictions, true_label, img):\n",
        "    true_label, img = true_label[i], img[i]\n",
        "    plt.xticks([])\n",
        "    plt.yticks([])\n",
        "\n",
        "    plt.imshow(img, cmap=plt.cm.binary)\n",
        "\n",
        "    predicted_label = np.argmax(predictions[i])\n",
        "    color = 'blue' if predicted_label == true_label else 'red'\n",
        "    \n",
        "    plt.xlabel(\n",
        "        \"{} ({})\".format( class_names[predicted_label], class_names[true_label]), \n",
        "        color=color\n",
        "    )\n",
        "                                \n",
        "def plot_histogram(i, predictions, true_label):\n",
        "    true_label = true_label[i]\n",
        "    plt.xticks(range(10))\n",
        "    plt.yticks([])\n",
        "    thisplot = plt.bar(range(10), predictions[i], color=\"#777777\")\n",
        "    plt.ylim([0, 1])\n",
        "    predicted_label = np.argmax(predictions[i])\n",
        "\n",
        "    thisplot[predicted_label].set_color('red')\n",
        "    thisplot[true_label].set_color('blue')"
      ],
      "execution_count": 19,
      "outputs": []
    },
    {
      "cell_type": "markdown",
      "metadata": {
        "id": "y65d4nTlWW23"
      },
      "source": [
        "Now we can use those function to inspect a few predictions visually:"
      ]
    },
    {
      "cell_type": "code",
      "metadata": {
        "id": "lt75Zox4WNDd",
        "colab": {
          "base_uri": "https://localhost:8080/",
          "height": 211
        },
        "outputId": "a5ef5db6-22c1-474f-b5b8-f8711ba0e73f"
      },
      "source": [
        "i = 19\n",
        "plt.figure(figsize=(6, 3))\n",
        "plt.subplot(1, 2, 1)\n",
        "plot_image(i, predictions, test_labels, test_images)\n",
        "plt.subplot(1, 2, 2)\n",
        "plot_histogram(i, predictions, test_labels)"
      ],
      "execution_count": 22,
      "outputs": [
        {
          "output_type": "display_data",
          "data": {
            "image/png": "[encoded data removed]",
            "text/plain": [
              "<Figure size 432x216 with 2 Axes>"
            ]
          },
          "metadata": {
            "needs_background": "light"
          }
        }
      ]
    },
    {
      "cell_type": "markdown",
      "source": [
        "# Is the model trained enough?\n",
        "\n",
        "We can plot the training and the test accuracy. We are overfitting the model on the training data when test accuracy does not improve anymore or even decrease."
      ],
      "metadata": {
        "id": "3MjvfV8GtYjv"
      }
    },
    {
      "cell_type": "code",
      "source": [
        "plt.plot(history.history['accuracy'], label='Training accuracy')\n",
        "plt.plot(history.history['val_accuracy'], label='Testing accuracy');"
      ],
      "metadata": {
        "colab": {
          "base_uri": "https://localhost:8080/",
          "height": 265
        },
        "id": "NtqpiIsCteg1",
        "outputId": "824b6025-cb1b-435e-9db8-0789cf78a669"
      },
      "execution_count": 23,
      "outputs": [
        {
          "output_type": "display_data",
          "data": {
            "image/png": "[encoded data removed]",
            "text/plain": [
              "<Figure size 432x288 with 1 Axes>"
            ]
          },
          "metadata": {
            "needs_background": "light"
          }
        }
      ]
    }
  ]
}