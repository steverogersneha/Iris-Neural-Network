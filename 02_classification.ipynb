{
  "nbformat": 4,
  "nbformat_minor": 0,
  "metadata": {
    "colab": {
      "name": "02_classification.ipynb",
      "provenance": [],
      "collapsed_sections": [],
      "include_colab_link": true
    },
    "kernelspec": {
      "name": "python3",
      "display_name": "Python 3"
    },
    "accelerator": "GPU"
  },
  "cells": [
    {
      "cell_type": "markdown",
      "metadata": {
        "id": "view-in-github",
        "colab_type": "text"
      },
      "source": [
        "<a href=\"https://colab.research.google.com/github/steverogersneha/Iris-Neural-Network/blob/master/02_classification.ipynb\" target=\"_parent\"><img src=\"https://colab.research.google.com/assets/colab-badge.svg\" alt=\"Open In Colab\"/></a>"
      ]
    },
    {
      "cell_type": "markdown",
      "metadata": {
        "id": "0lpJWauCL7Hu"
      },
      "source": [
        "# Image classification with Keras\n",
        "\n",
        "In this tutorial, we will create a very basic neural network for image classification in Keras. \n",
        "\n",
        "We will use the dataset with images of clothing and try to automatically classify them in classes (clothing types).\n",
        "\n",
        "In this tutorial, we will:\n",
        "- Download and review the dataset\n",
        "- Preprocessed the data\n",
        "- Build the classification model\n",
        "- Train the model\n",
        "- Evaluate the model and observe the results"
      ]
    },
    {
      "cell_type": "code",
      "metadata": {
        "id": "i0H2561aMNTh",
        "outputId": "4627e5e8-9597-49fd-cce1-ec4bb095598c",
        "colab": {
          "base_uri": "https://localhost:8080/"
        }
      },
      "source": [
        "# TensorFlow and tf.keras\n",
        "import tensorflow as tf\n",
        "from tensorflow import keras\n",
        "from tensorflow.keras import layers, Sequential\n",
        "\n",
        "# Helper libraries\n",
        "import numpy as np\n",
        "import matplotlib.pyplot as plt\n",
        "\n",
        "print(tf.__version__)\n",
        "print(tf.config.list_physical_devices('GPU'))"
      ],
      "execution_count": 19,
      "outputs": [
        {
          "output_type": "stream",
          "name": "stdout",
          "text": [
            "2.8.0\n",
            "[PhysicalDevice(name='/physical_device:GPU:0', device_type='GPU')]\n"
          ]
        }
      ]
    },
    {
      "cell_type": "markdown",
      "metadata": {
        "id": "5W6pKypybrmH"
      },
      "source": [
        "## The dataset\n",
        "\n",
        "This tutorial uses [Fashion MNIST](https://github.com/zalandoresearch/fashion-mnist) dataset. The dataset contains 70,000 images of clothing.\n",
        "\n",
        "![](https://tensorflow.org/images/fashion-mnist-sprite.png)\n",
        "\n",
        "\n"
      ]
    },
    {
      "cell_type": "markdown",
      "metadata": {
        "id": "qCwTp9jieItv"
      },
      "source": [
        "This dataset is available through `keras.datasets` module and is already split on training and testing dataset."
      ]
    },
    {
      "cell_type": "code",
      "metadata": {
        "id": "5UbBuO9OMt0t",
        "outputId": "149d9151-2e7c-4c14-d476-413e6a0fba06",
        "colab": {
          "base_uri": "https://localhost:8080/"
        }
      },
      "source": [
        "fashion_mnist = keras.datasets.fashion_mnist\n",
        "(train_images, train_labels), (test_images, test_labels) = fashion_mnist.load_data()"
      ],
      "execution_count": 2,
      "outputs": [
        {
          "output_type": "stream",
          "name": "stdout",
          "text": [
            "Downloading data from https://storage.googleapis.com/tensorflow/tf-keras-datasets/train-labels-idx1-ubyte.gz\n",
            "32768/29515 [=================================] - 0s 0us/step\n",
            "40960/29515 [=========================================] - 0s 0us/step\n",
            "Downloading data from https://storage.googleapis.com/tensorflow/tf-keras-datasets/train-images-idx3-ubyte.gz\n",
            "26427392/26421880 [==============================] - 0s 0us/step\n",
            "26435584/26421880 [==============================] - 0s 0us/step\n",
            "Downloading data from https://storage.googleapis.com/tensorflow/tf-keras-datasets/t10k-labels-idx1-ubyte.gz\n",
            "16384/5148 [===============================================================================================] - 0s 0us/step\n",
            "Downloading data from https://storage.googleapis.com/tensorflow/tf-keras-datasets/t10k-images-idx3-ubyte.gz\n",
            "4423680/4422102 [==============================] - 0s 0us/step\n",
            "4431872/4422102 [==============================] - 0s 0us/step\n"
          ]
        }
      ]
    },
    {
      "cell_type": "markdown",
      "metadata": {
        "id": "58vG_VQPekhW"
      },
      "source": [
        "## Review the dataset\n",
        "\n",
        "We will first check the size of the dataset."
      ]
    },
    {
      "cell_type": "code",
      "metadata": {
        "id": "bdALdCHJMpxF",
        "outputId": "2baca052-56f2-4ed0-a04a-fc1d3ada8d47",
        "colab": {
          "base_uri": "https://localhost:8080/"
        }
      },
      "source": [
        "train_images.shape, train_labels.shape, test_images.shape, test_labels.shape"
      ],
      "execution_count": 3,
      "outputs": [
        {
          "output_type": "execute_result",
          "data": {
            "text/plain": [
              "((60000, 28, 28), (60000,), (10000, 28, 28), (10000,))"
            ]
          },
          "metadata": {},
          "execution_count": 3
        }
      ]
    },
    {
      "cell_type": "markdown",
      "metadata": {
        "id": "o09y51Aye0k0"
      },
      "source": [
        "\n",
        "How does one image look?"
      ]
    },
    {
      "cell_type": "code",
      "metadata": {
        "id": "tM20kMPHe8TW",
        "outputId": "6e84a3b5-cc28-4cc8-fbb5-3c2399d315bb",
        "colab": {
          "base_uri": "https://localhost:8080/",
          "height": 272
        }
      },
      "source": [
        "plt.imshow(train_images[1], cmap='gray')\n",
        "plt.axis('off')\n",
        "plt.colorbar()"
      ],
      "execution_count": 4,
      "outputs": [
        {
          "output_type": "execute_result",
          "data": {
            "text/plain": [
              "<matplotlib.colorbar.Colorbar at 0x7fa2730a9610>"
            ]
          },
          "metadata": {},
          "execution_count": 4
        },
        {
          "output_type": "display_data",
          "data": {
            "image/png": "[encoded data removed]",
            "text/plain": [
              "<Figure size 432x288 with 2 Axes>"
            ]
          },
          "metadata": {
            "needs_background": "light"
          }
        }
      ]
    },
    {
      "cell_type": "markdown",
      "metadata": {
        "id": "58wBpQ4re-_F"
      },
      "source": [
        "What about labels? We plot labels for ten first image in the dataset."
      ]
    },
    {
      "cell_type": "code",
      "metadata": {
        "id": "xTsKrxOpMjl9",
        "outputId": "67bb2838-ae68-4733-c19c-eca5596f1ae4",
        "colab": {
          "base_uri": "https://localhost:8080/"
        }
      },
      "source": [
        "train_labels[:10]"
      ],
      "execution_count": 5,
      "outputs": [
        {
          "output_type": "execute_result",
          "data": {
            "text/plain": [
              "array([9, 0, 0, 3, 0, 2, 7, 2, 5, 5], dtype=uint8)"
            ]
          },
          "metadata": {},
          "execution_count": 5
        }
      ]
    },
    {
      "cell_type": "markdown",
      "metadata": {
        "id": "He6vQ9q5EfUQ"
      },
      "source": [
        "We see that labels are numbers. Each category is represented with its number. \n",
        "For labelling purposes, we crate the list of labels which indexes correspond to numbers in the list above."
      ]
    },
    {
      "cell_type": "code",
      "source": [
        ""
      ],
      "metadata": {
        "id": "06A74NJqP0-G"
      },
      "execution_count": null,
      "outputs": []
    },
    {
      "cell_type": "code",
      "metadata": {
        "id": "lLfuFwvnNYPG"
      },
      "source": [
        "class_names = [\n",
        "    'T-shirt/top', 'Trouser', 'Pullover', 'Dress', 'Coat',\n",
        "    'Sandal', 'Shirt', 'Sneaker', 'Bag', 'Ankle boot'\n",
        "]"
      ],
      "execution_count": 6,
      "outputs": []
    },
    {
      "cell_type": "markdown",
      "metadata": {
        "id": "75fE8Cc0Njb3"
      },
      "source": [
        "## Preprocess images\n",
        "\n",
        "Data must be preprocessed before training the neural network, which improves the learning process. More about reasons for preprocessing can be found [here](https://machinelearningmastery.com/how-to-improve-neural-network-stability-and-modeling-performance-with-data-scaling/)"
      ]
    },
    {
      "cell_type": "code",
      "source": [
        "train_images_preprocessed = train_images / 255\n",
        "test_images_preprocessed = test_images / 255"
      ],
      "metadata": {
        "id": "Dc8vXGmOwu1M"
      },
      "execution_count": 9,
      "outputs": []
    },
    {
      "cell_type": "code",
      "source": [
        "plt.imshow(train_images[1], cmap='gray')\n",
        "plt.axis('off')\n",
        "plt.colorbar()"
      ],
      "metadata": {
        "id": "QQ2ohvv9QSdj",
        "outputId": "5c41f230-b67f-4a0a-992a-92fba2e7ccb0",
        "colab": {
          "base_uri": "https://localhost:8080/",
          "height": 272
        }
      },
      "execution_count": 8,
      "outputs": [
        {
          "output_type": "execute_result",
          "data": {
            "text/plain": [
              "<matplotlib.colorbar.Colorbar at 0x7fa272b5e550>"
            ]
          },
          "metadata": {},
          "execution_count": 8
        },
        {
          "output_type": "display_data",
          "data": {
            "image/png": "[encoded data removed]",
            "text/plain": [
              "<Figure size 432x288 with 2 Axes>"
            ]
          },
          "metadata": {
            "needs_background": "light"
          }
        }
      ]
    },
    {
      "cell_type": "markdown",
      "metadata": {
        "id": "ALIzb-uXGzd9"
      },
      "source": [
        "## Building the model\n",
        "\n",
        "We will first chose and connect layers and then compile the model to make it ready for training.\n",
        "\n",
        "We decided to make our network simple. It will have only two dense layers.\n",
        "\n",
        "![](https://victorzhou.com/media/nn-series/network.svg)"
      ]
    },
    {
      "cell_type": "code",
      "source": [
        "train_images_preprocessed.reshape(60000,784)\n"
      ],
      "metadata": {
        "id": "qe6DGV0zwvxd",
        "outputId": "284e091a-dd99-4841-d621-e9118e11ae03",
        "colab": {
          "base_uri": "https://localhost:8080/"
        }
      },
      "execution_count": 10,
      "outputs": [
        {
          "output_type": "execute_result",
          "data": {
            "text/plain": [
              "array([[0., 0., 0., ..., 0., 0., 0.],\n",
              "       [0., 0., 0., ..., 0., 0., 0.],\n",
              "       [0., 0., 0., ..., 0., 0., 0.],\n",
              "       ...,\n",
              "       [0., 0., 0., ..., 0., 0., 0.],\n",
              "       [0., 0., 0., ..., 0., 0., 0.],\n",
              "       [0., 0., 0., ..., 0., 0., 0.]])"
            ]
          },
          "metadata": {},
          "execution_count": 10
        }
      ]
    },
    {
      "cell_type": "markdown",
      "metadata": {
        "id": "c21_9lSyLmTQ"
      },
      "source": [
        "## Training the model\n",
        "\n",
        "We will use the training part of the dataset to train the model"
      ]
    },
    {
      "cell_type": "code",
      "source": [
        "ly = [\n",
        "      layers.Flatten(input_shape = (28,28)),\n",
        "      layers.Dense(128, activation = \"relu\"),\n",
        "      layers.Dense(10, activation = \"softmax\"),\n",
        "     ]"
      ],
      "metadata": {
        "id": "sFjvdw7-wwU-"
      },
      "execution_count": 11,
      "outputs": []
    },
    {
      "cell_type": "markdown",
      "metadata": {
        "id": "vwXg7wOqQcF0"
      },
      "source": [
        "# Model evaluation and predicting\n",
        "\n",
        "We want to know how accurate is the model we trained on the test data. "
      ]
    },
    {
      "cell_type": "code",
      "source": [
        "model = Sequential(ly)\n",
        "model.compile(optimizer = 'adam', loss = keras.losses.SparseCatagoricalCrossentropy(),metrices=[\"accuracy\"],)\n",
        "model.summery()"
      ],
      "metadata": {
        "id": "hsOUjKcFwoHo",
        "outputId": "daae2949-2d31-4ce3-8baf-6a99ff773947",
        "colab": {
          "base_uri": "https://localhost:8080/",
          "height": 204
        }
      },
      "execution_count": 20,
      "outputs": [
        {
          "output_type": "error",
          "ename": "AttributeError",
          "evalue": "ignored",
          "traceback": [
            "\u001b[0;31m---------------------------------------------------------------------------\u001b[0m",
            "\u001b[0;31mAttributeError\u001b[0m                            Traceback (most recent call last)",
            "\u001b[0;32m<ipython-input-20-0b8aebe2691a>\u001b[0m in \u001b[0;36m<module>\u001b[0;34m()\u001b[0m\n\u001b[1;32m      1\u001b[0m \u001b[0mmodel\u001b[0m \u001b[0;34m=\u001b[0m \u001b[0mSequential\u001b[0m\u001b[0;34m(\u001b[0m\u001b[0mly\u001b[0m\u001b[0;34m)\u001b[0m\u001b[0;34m\u001b[0m\u001b[0;34m\u001b[0m\u001b[0m\n\u001b[0;32m----> 2\u001b[0;31m \u001b[0mmodel\u001b[0m\u001b[0;34m.\u001b[0m\u001b[0mcompile\u001b[0m\u001b[0;34m(\u001b[0m\u001b[0moptimizer\u001b[0m \u001b[0;34m=\u001b[0m \u001b[0;34m'adam'\u001b[0m\u001b[0;34m,\u001b[0m \u001b[0mloss\u001b[0m \u001b[0;34m=\u001b[0m \u001b[0mkeras\u001b[0m\u001b[0;34m.\u001b[0m\u001b[0mlosses\u001b[0m\u001b[0;34m.\u001b[0m\u001b[0mSparseCatagoricalCrossentropy\u001b[0m\u001b[0;34m(\u001b[0m\u001b[0;34m)\u001b[0m\u001b[0;34m,\u001b[0m\u001b[0mmetrices\u001b[0m\u001b[0;34m=\u001b[0m\u001b[0;34m[\u001b[0m\u001b[0;34m\"accuracy\"\u001b[0m\u001b[0;34m]\u001b[0m\u001b[0;34m,\u001b[0m\u001b[0;34m)\u001b[0m\u001b[0;34m\u001b[0m\u001b[0;34m\u001b[0m\u001b[0m\n\u001b[0m\u001b[1;32m      3\u001b[0m \u001b[0mmodel\u001b[0m\u001b[0;34m.\u001b[0m\u001b[0msummery\u001b[0m\u001b[0;34m(\u001b[0m\u001b[0;34m)\u001b[0m\u001b[0;34m\u001b[0m\u001b[0;34m\u001b[0m\u001b[0m\n",
            "\u001b[0;31mAttributeError\u001b[0m: module 'keras.api._v2.keras.losses' has no attribute 'SparseCatagoricalCrossentropy'"
          ]
        }
      ]
    },
    {
      "cell_type": "markdown",
      "metadata": {
        "id": "vDkkG8hzVi2y"
      },
      "source": [
        "Here we implement two functions to show the results:"
      ]
    },
    {
      "cell_type": "code",
      "metadata": {
        "id": "YYiQVRzCWJaB"
      },
      "source": [
        "def plot_image(i, predictions, true_label, img):\n",
        "    true_label, img = true_label[i], img[i]\n",
        "    plt.xticks([])\n",
        "    plt.yticks([])\n",
        "\n",
        "    plt.imshow(img, cmap=plt.cm.binary)\n",
        "\n",
        "    predicted_label = np.argmax(predictions[i])\n",
        "    color = 'blue' if predicted_label == true_label else 'red'\n",
        "    \n",
        "    plt.xlabel(\n",
        "        \"{} ({})\".format( class_names[predicted_label], class_names[true_label]), \n",
        "        color=color\n",
        "    )\n",
        "                                \n",
        "def plot_histogram(i, predictions, true_label):\n",
        "    true_label = true_label[i]\n",
        "    plt.xticks(range(10))\n",
        "    plt.yticks([])\n",
        "    thisplot = plt.bar(range(10), predictions[i], color=\"#777777\")\n",
        "    plt.ylim([0, 1])\n",
        "    predicted_label = np.argmax(predictions[i])\n",
        "\n",
        "    thisplot[predicted_label].set_color('red')\n",
        "    thisplot[true_label].set_color('blue')"
      ],
      "execution_count": null,
      "outputs": []
    },
    {
      "cell_type": "markdown",
      "metadata": {
        "id": "y65d4nTlWW23"
      },
      "source": [
        "Now we can use those function to inspect a few predictions visually:"
      ]
    },
    {
      "cell_type": "markdown",
      "source": [
        "# Is the model trained enough?\n",
        "\n",
        "We can plot the training and the test accuracy. We are overfitting the model on the training data when test accuracy does not improve anymore or even decrease."
      ],
      "metadata": {
        "id": "3MjvfV8GtYjv"
      }
    },
    {
      "cell_type": "code",
      "source": [
        ""
      ],
      "metadata": {
        "id": "HuQFy-iBww9o"
      },
      "execution_count": null,
      "outputs": []
    }
  ]
}